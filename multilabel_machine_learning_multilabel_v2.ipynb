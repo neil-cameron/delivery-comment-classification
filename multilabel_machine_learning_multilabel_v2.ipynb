{
 "cells": [
  {
   "cell_type": "code",
   "execution_count": 159,
   "metadata": {},
   "outputs": [],
   "source": [
    "# https://towardsdatascience.com/journey-to-the-center-of-multi-label-classification-384c40229bff\n",
    "import numpy as np\n",
    "import pandas as pd\n",
    "import matplotlib.pyplot as plt\n",
    "import seaborn as sns\n",
    "%matplotlib inline"
   ]
  },
  {
   "cell_type": "code",
   "execution_count": 160,
   "metadata": {},
   "outputs": [
    {
     "data": {
      "text/html": [
       "<div>\n",
       "<style scoped>\n",
       "    .dataframe tbody tr th:only-of-type {\n",
       "        vertical-align: middle;\n",
       "    }\n",
       "\n",
       "    .dataframe tbody tr th {\n",
       "        vertical-align: top;\n",
       "    }\n",
       "\n",
       "    .dataframe thead th {\n",
       "        text-align: right;\n",
       "    }\n",
       "</style>\n",
       "<table border=\"1\" class=\"dataframe\">\n",
       "  <thead>\n",
       "    <tr style=\"text-align: right;\">\n",
       "      <th></th>\n",
       "      <th>Unnamed: 0</th>\n",
       "      <th>id</th>\n",
       "      <th>dcity</th>\n",
       "      <th>notes</th>\n",
       "      <th>orderdate</th>\n",
       "      <th>food</th>\n",
       "      <th>Alergy</th>\n",
       "      <th>Compensation</th>\n",
       "      <th>Cutlery</th>\n",
       "      <th>delivery</th>\n",
       "      <th>Change</th>\n",
       "      <th>Collect</th>\n",
       "      <th>other</th>\n",
       "      <th>combined</th>\n",
       "    </tr>\n",
       "  </thead>\n",
       "  <tbody>\n",
       "    <tr>\n",
       "      <th>0</th>\n",
       "      <td>0</td>\n",
       "      <td>363281631</td>\n",
       "      <td>pinner</td>\n",
       "      <td>zahamt bekeshin berenj mashti vasamoon bekeshi...</td>\n",
       "      <td>21/01/2017 14:39</td>\n",
       "      <td>0</td>\n",
       "      <td>NaN</td>\n",
       "      <td>NaN</td>\n",
       "      <td>NaN</td>\n",
       "      <td>0</td>\n",
       "      <td>NaN</td>\n",
       "      <td>NaN</td>\n",
       "      <td>0</td>\n",
       "      <td>3</td>\n",
       "    </tr>\n",
       "    <tr>\n",
       "      <th>1</th>\n",
       "      <td>1</td>\n",
       "      <td>363302780</td>\n",
       "      <td>swansea</td>\n",
       "      <td>your food is really good keep it up</td>\n",
       "      <td>21/01/2017 16:36</td>\n",
       "      <td>0</td>\n",
       "      <td>NaN</td>\n",
       "      <td>NaN</td>\n",
       "      <td>NaN</td>\n",
       "      <td>0</td>\n",
       "      <td>NaN</td>\n",
       "      <td>NaN</td>\n",
       "      <td>0</td>\n",
       "      <td>3</td>\n",
       "    </tr>\n",
       "    <tr>\n",
       "      <th>2</th>\n",
       "      <td>2</td>\n",
       "      <td>363314044</td>\n",
       "      <td>NaN</td>\n",
       "      <td>your favourite vegans haha. tofu in the vermic...</td>\n",
       "      <td>21/01/2017 16:57</td>\n",
       "      <td>1</td>\n",
       "      <td>1.0</td>\n",
       "      <td>NaN</td>\n",
       "      <td>NaN</td>\n",
       "      <td>0</td>\n",
       "      <td>NaN</td>\n",
       "      <td>NaN</td>\n",
       "      <td>1</td>\n",
       "      <td>1</td>\n",
       "    </tr>\n",
       "  </tbody>\n",
       "</table>\n",
       "</div>"
      ],
      "text/plain": [
       "   Unnamed: 0         id    dcity  \\\n",
       "0           0  363281631   pinner   \n",
       "1           1  363302780  swansea   \n",
       "2           2  363314044      NaN   \n",
       "\n",
       "                                               notes         orderdate  food  \\\n",
       "0  zahamt bekeshin berenj mashti vasamoon bekeshi...  21/01/2017 14:39     0   \n",
       "1                your food is really good keep it up  21/01/2017 16:36     0   \n",
       "2  your favourite vegans haha. tofu in the vermic...  21/01/2017 16:57     1   \n",
       "\n",
       "   Alergy  Compensation  Cutlery  delivery  Change  Collect  other  combined  \n",
       "0     NaN           NaN      NaN         0     NaN      NaN      0         3  \n",
       "1     NaN           NaN      NaN         0     NaN      NaN      0         3  \n",
       "2     1.0           NaN      NaN         0     NaN      NaN      1         1  "
      ]
     },
     "execution_count": 160,
     "metadata": {},
     "output_type": "execute_result"
    }
   ],
   "source": [
    "human_labelled_data = pd.read_csv('human_labelled_data.csv')\n",
    "# Alergy, compensation, cutlery, change, collect, combined collumns not correct\n",
    "human_labelled_data.head(3)"
   ]
  },
  {
   "cell_type": "code",
   "execution_count": 161,
   "metadata": {},
   "outputs": [
    {
     "name": "stdout",
     "output_type": "stream",
     "text": [
      "<class 'pandas.core.frame.DataFrame'>\n",
      "RangeIndex: 10000 entries, 0 to 9999\n",
      "Data columns (total 14 columns):\n",
      "Unnamed: 0      10000 non-null int64\n",
      "id              10000 non-null int64\n",
      "dcity           9666 non-null object\n",
      "notes           9992 non-null object\n",
      "orderdate       10000 non-null object\n",
      "food            10000 non-null int64\n",
      "Alergy          4 non-null float64\n",
      "Compensation    7 non-null float64\n",
      "Cutlery         2 non-null float64\n",
      "delivery        10000 non-null int64\n",
      "Change          1 non-null float64\n",
      "Collect         5 non-null float64\n",
      "other           10000 non-null int64\n",
      "combined        10000 non-null int64\n",
      "dtypes: float64(5), int64(6), object(3)\n",
      "memory usage: 1.1+ MB\n"
     ]
    }
   ],
   "source": [
    "human_labelled_data.info()"
   ]
  },
  {
   "cell_type": "code",
   "execution_count": 162,
   "metadata": {},
   "outputs": [
    {
     "name": "stdout",
     "output_type": "stream",
     "text": [
      "Index(['Unnamed: 0', 'id', 'dcity', 'notes', 'orderdate', 'food', 'Alergy',\n",
      "       'Compensation', 'Cutlery', 'delivery', 'Change', 'Collect', 'other',\n",
      "       'combined'],\n",
      "      dtype='object')\n"
     ]
    }
   ],
   "source": [
    "print(human_labelled_data.columns)"
   ]
  },
  {
   "cell_type": "code",
   "execution_count": 163,
   "metadata": {},
   "outputs": [
    {
     "data": {
      "text/html": [
       "<div>\n",
       "<style scoped>\n",
       "    .dataframe tbody tr th:only-of-type {\n",
       "        vertical-align: middle;\n",
       "    }\n",
       "\n",
       "    .dataframe tbody tr th {\n",
       "        vertical-align: top;\n",
       "    }\n",
       "\n",
       "    .dataframe thead th {\n",
       "        text-align: right;\n",
       "    }\n",
       "</style>\n",
       "<table border=\"1\" class=\"dataframe\">\n",
       "  <thead>\n",
       "    <tr style=\"text-align: right;\">\n",
       "      <th></th>\n",
       "      <th>notes</th>\n",
       "      <th>food</th>\n",
       "      <th>delivery</th>\n",
       "      <th>other</th>\n",
       "    </tr>\n",
       "  </thead>\n",
       "  <tbody>\n",
       "    <tr>\n",
       "      <th>0</th>\n",
       "      <td>zahamt bekeshin berenj mashti vasamoon bekeshi...</td>\n",
       "      <td>0</td>\n",
       "      <td>0</td>\n",
       "      <td>0</td>\n",
       "    </tr>\n",
       "    <tr>\n",
       "      <th>1</th>\n",
       "      <td>your food is really good keep it up</td>\n",
       "      <td>0</td>\n",
       "      <td>0</td>\n",
       "      <td>0</td>\n",
       "    </tr>\n",
       "    <tr>\n",
       "      <th>2</th>\n",
       "      <td>your favourite vegans haha. tofu in the vermic...</td>\n",
       "      <td>1</td>\n",
       "      <td>0</td>\n",
       "      <td>1</td>\n",
       "    </tr>\n",
       "    <tr>\n",
       "      <th>3</th>\n",
       "      <td>you told me to remind you that you would give ...</td>\n",
       "      <td>1</td>\n",
       "      <td>0</td>\n",
       "      <td>1</td>\n",
       "    </tr>\n",
       "    <tr>\n",
       "      <th>4</th>\n",
       "      <td>you need to send me something extra 'cause las...</td>\n",
       "      <td>1</td>\n",
       "      <td>0</td>\n",
       "      <td>0</td>\n",
       "    </tr>\n",
       "  </tbody>\n",
       "</table>\n",
       "</div>"
      ],
      "text/plain": [
       "                                               notes  food  delivery  other\n",
       "0  zahamt bekeshin berenj mashti vasamoon bekeshi...     0         0      0\n",
       "1                your food is really good keep it up     0         0      0\n",
       "2  your favourite vegans haha. tofu in the vermic...     1         0      1\n",
       "3  you told me to remind you that you would give ...     1         0      1\n",
       "4  you need to send me something extra 'cause las...     1         0      0"
      ]
     },
     "execution_count": 163,
     "metadata": {},
     "output_type": "execute_result"
    }
   ],
   "source": [
    "human_labelled_data['notes'] = human_labelled_data['notes'].str.lower().astype(str)\n",
    "human_labelled_data['dcity'] = human_labelled_data['dcity'].str.lower().astype(str)\n",
    "human_labelled_data.drop(labels=['Unnamed: 0', 'id', 'dcity', 'orderdate', 'Alergy', 'Compensation', 'Cutlery', 'Change', 'Collect', 'combined'], axis=1, inplace=True)\n",
    "human_labelled_data.head(5)"
   ]
  },
  {
   "cell_type": "code",
   "execution_count": 164,
   "metadata": {},
   "outputs": [
    {
     "name": "stdout",
     "output_type": "stream",
     "text": [
      "<class 'pandas.core.frame.DataFrame'>\n",
      "RangeIndex: 10000 entries, 0 to 9999\n",
      "Data columns (total 4 columns):\n",
      "notes       10000 non-null object\n",
      "food        10000 non-null int64\n",
      "delivery    10000 non-null int64\n",
      "other       10000 non-null int64\n",
      "dtypes: int64(3), object(1)\n",
      "memory usage: 312.6+ KB\n"
     ]
    }
   ],
   "source": [
    "human_labelled_data.info()"
   ]
  },
  {
   "cell_type": "code",
   "execution_count": 165,
   "metadata": {},
   "outputs": [],
   "source": [
    "# The first 3000 entries have been human labelled and should be used for train/test.\n",
    "# The remainder are not correctly labelled and can have predictions made against them \n",
    "# to see if the proportions in each category match the train/test data\n",
    "train_test_data = human_labelled_data[:3000]\n",
    "predict_data = human_labelled_data[3001:]"
   ]
  },
  {
   "cell_type": "code",
   "execution_count": 166,
   "metadata": {},
   "outputs": [
    {
     "data": {
      "text/html": [
       "<div>\n",
       "<style scoped>\n",
       "    .dataframe tbody tr th:only-of-type {\n",
       "        vertical-align: middle;\n",
       "    }\n",
       "\n",
       "    .dataframe tbody tr th {\n",
       "        vertical-align: top;\n",
       "    }\n",
       "\n",
       "    .dataframe thead th {\n",
       "        text-align: right;\n",
       "    }\n",
       "</style>\n",
       "<table border=\"1\" class=\"dataframe\">\n",
       "  <thead>\n",
       "    <tr style=\"text-align: right;\">\n",
       "      <th></th>\n",
       "      <th>Unnamed: 0</th>\n",
       "      <th>id</th>\n",
       "      <th>dcity</th>\n",
       "      <th>notes</th>\n",
       "      <th>orderdate</th>\n",
       "      <th>food</th>\n",
       "      <th>delivery</th>\n",
       "      <th>other</th>\n",
       "      <th>combined</th>\n",
       "    </tr>\n",
       "  </thead>\n",
       "  <tbody>\n",
       "    <tr>\n",
       "      <th>3001</th>\n",
       "      <td>3001</td>\n",
       "      <td>363296959</td>\n",
       "      <td>swansea</td>\n",
       "      <td>please be quick :)</td>\n",
       "      <td>21/01/2017 16:21</td>\n",
       "      <td>0</td>\n",
       "      <td>0</td>\n",
       "      <td>1</td>\n",
       "      <td>3</td>\n",
       "    </tr>\n",
       "    <tr>\n",
       "      <th>3002</th>\n",
       "      <td>3002</td>\n",
       "      <td>363311888</td>\n",
       "      <td>chester</td>\n",
       "      <td>please be patient as customer is disabled and ...</td>\n",
       "      <td>21/01/2017 16:54</td>\n",
       "      <td>0</td>\n",
       "      <td>1</td>\n",
       "      <td>0</td>\n",
       "      <td>0</td>\n",
       "    </tr>\n",
       "    <tr>\n",
       "      <th>3003</th>\n",
       "      <td>3003</td>\n",
       "      <td>363277029</td>\n",
       "      <td>london</td>\n",
       "      <td>please be as quick as possible</td>\n",
       "      <td>21/01/2017 13:46</td>\n",
       "      <td>0</td>\n",
       "      <td>0</td>\n",
       "      <td>1</td>\n",
       "      <td>3</td>\n",
       "    </tr>\n",
       "    <tr>\n",
       "      <th>3004</th>\n",
       "      <td>3004</td>\n",
       "      <td>363296960</td>\n",
       "      <td>peacehaven</td>\n",
       "      <td>please bang on the door loudly</td>\n",
       "      <td>21/01/2017 16:21</td>\n",
       "      <td>0</td>\n",
       "      <td>1</td>\n",
       "      <td>0</td>\n",
       "      <td>0</td>\n",
       "    </tr>\n",
       "    <tr>\n",
       "      <th>3005</th>\n",
       "      <td>3005</td>\n",
       "      <td>363312113</td>\n",
       "      <td>willenhall</td>\n",
       "      <td>please bag the starters separately as one of t...</td>\n",
       "      <td>21/01/2017 16:54</td>\n",
       "      <td>1</td>\n",
       "      <td>0</td>\n",
       "      <td>1</td>\n",
       "      <td>1</td>\n",
       "    </tr>\n",
       "  </tbody>\n",
       "</table>\n",
       "</div>"
      ],
      "text/plain": [
       "      Unnamed: 0         id       dcity  \\\n",
       "3001        3001  363296959     swansea   \n",
       "3002        3002  363311888     chester   \n",
       "3003        3003  363277029      london   \n",
       "3004        3004  363296960  peacehaven   \n",
       "3005        3005  363312113  willenhall   \n",
       "\n",
       "                                                  notes         orderdate  \\\n",
       "3001                                 please be quick :)  21/01/2017 16:21   \n",
       "3002  please be patient as customer is disabled and ...  21/01/2017 16:54   \n",
       "3003                     please be as quick as possible  21/01/2017 13:46   \n",
       "3004                     please bang on the door loudly  21/01/2017 16:21   \n",
       "3005  please bag the starters separately as one of t...  21/01/2017 16:54   \n",
       "\n",
       "      food  delivery  other  combined  \n",
       "3001     0         0      1         3  \n",
       "3002     0         1      0         0  \n",
       "3003     0         0      1         3  \n",
       "3004     0         1      0         0  \n",
       "3005     1         0      1         1  "
      ]
     },
     "execution_count": 166,
     "metadata": {},
     "output_type": "execute_result"
    }
   ],
   "source": [
    "# This dataset has been labelled by matching keywords. Predictions can be made on it from the NN model\n",
    "# and compared to this to see how good the keyword matching was\n",
    "machine_labelled_data = pd.read_csv('Machine Labelling of Data/machine_labelled_data.csv')\n",
    "# Combined column not correct\n",
    "machine_labelled_data = machine_labelled_data[3001:]\n",
    "machine_labelled_data.head(5)"
   ]
  },
  {
   "cell_type": "code",
   "execution_count": 167,
   "metadata": {},
   "outputs": [
    {
     "name": "stdout",
     "output_type": "stream",
     "text": [
      "Index(['Unnamed: 0', 'id', 'dcity', 'notes', 'orderdate', 'food', 'delivery',\n",
      "       'other', 'combined'],\n",
      "      dtype='object')\n"
     ]
    }
   ],
   "source": [
    "print(machine_labelled_data.columns)"
   ]
  },
  {
   "cell_type": "code",
   "execution_count": 168,
   "metadata": {},
   "outputs": [
    {
     "data": {
      "text/html": [
       "<div>\n",
       "<style scoped>\n",
       "    .dataframe tbody tr th:only-of-type {\n",
       "        vertical-align: middle;\n",
       "    }\n",
       "\n",
       "    .dataframe tbody tr th {\n",
       "        vertical-align: top;\n",
       "    }\n",
       "\n",
       "    .dataframe thead th {\n",
       "        text-align: right;\n",
       "    }\n",
       "</style>\n",
       "<table border=\"1\" class=\"dataframe\">\n",
       "  <thead>\n",
       "    <tr style=\"text-align: right;\">\n",
       "      <th></th>\n",
       "      <th>notes</th>\n",
       "      <th>food</th>\n",
       "      <th>delivery</th>\n",
       "      <th>other</th>\n",
       "    </tr>\n",
       "  </thead>\n",
       "  <tbody>\n",
       "    <tr>\n",
       "      <th>3001</th>\n",
       "      <td>please be quick :)</td>\n",
       "      <td>0</td>\n",
       "      <td>0</td>\n",
       "      <td>1</td>\n",
       "    </tr>\n",
       "    <tr>\n",
       "      <th>3002</th>\n",
       "      <td>please be patient as customer is disabled and ...</td>\n",
       "      <td>0</td>\n",
       "      <td>1</td>\n",
       "      <td>0</td>\n",
       "    </tr>\n",
       "    <tr>\n",
       "      <th>3003</th>\n",
       "      <td>please be as quick as possible</td>\n",
       "      <td>0</td>\n",
       "      <td>0</td>\n",
       "      <td>1</td>\n",
       "    </tr>\n",
       "    <tr>\n",
       "      <th>3004</th>\n",
       "      <td>please bang on the door loudly</td>\n",
       "      <td>0</td>\n",
       "      <td>1</td>\n",
       "      <td>0</td>\n",
       "    </tr>\n",
       "    <tr>\n",
       "      <th>3005</th>\n",
       "      <td>please bag the starters separately as one of t...</td>\n",
       "      <td>1</td>\n",
       "      <td>0</td>\n",
       "      <td>1</td>\n",
       "    </tr>\n",
       "  </tbody>\n",
       "</table>\n",
       "</div>"
      ],
      "text/plain": [
       "                                                  notes  food  delivery  other\n",
       "3001                                 please be quick :)     0         0      1\n",
       "3002  please be patient as customer is disabled and ...     0         1      0\n",
       "3003                     please be as quick as possible     0         0      1\n",
       "3004                     please bang on the door loudly     0         1      0\n",
       "3005  please bag the starters separately as one of t...     1         0      1"
      ]
     },
     "execution_count": 168,
     "metadata": {},
     "output_type": "execute_result"
    }
   ],
   "source": [
    "machine_labelled_data['notes'] = machine_labelled_data['notes'].str.lower().astype(str)\n",
    "machine_labelled_data['dcity'] = machine_labelled_data['dcity'].str.lower().astype(str)\n",
    "machine_labelled_data.drop(labels=['Unnamed: 0', 'id', 'dcity', 'orderdate', 'combined'], axis=1, inplace=True)\n",
    "machine_labelled_data.head(5)"
   ]
  },
  {
   "cell_type": "code",
   "execution_count": 169,
   "metadata": {},
   "outputs": [],
   "source": [
    "machine_labelled_data.drop(labels='notes', axis=1, inplace=True)"
   ]
  },
  {
   "cell_type": "code",
   "execution_count": 170,
   "metadata": {},
   "outputs": [
    {
     "name": "stdout",
     "output_type": "stream",
     "text": [
      "<class 'pandas.core.frame.DataFrame'>\n",
      "RangeIndex: 6999 entries, 3001 to 9999\n",
      "Data columns (total 3 columns):\n",
      "food        6999 non-null int64\n",
      "delivery    6999 non-null int64\n",
      "other       6999 non-null int64\n",
      "dtypes: int64(3)\n",
      "memory usage: 164.1 KB\n"
     ]
    }
   ],
   "source": [
    "machine_labelled_data.info()"
   ]
  },
  {
   "cell_type": "code",
   "execution_count": 171,
   "metadata": {},
   "outputs": [],
   "source": [
    "from nltk.stem.snowball import SnowballStemmer\n",
    "\n",
    "stemmer = SnowballStemmer(\"english\")\n",
    "def stemming(sentence):\n",
    "    \"\"\"\n",
    "    Plumbing for the stemming process that is implemented in the stop_process below\n",
    "    \"\"\"\n",
    "    stemSentence = \"\"\n",
    "    for word in sentence.split():\n",
    "        stem = stemmer.stem(word)\n",
    "        stemSentence += stem\n",
    "        stemSentence += \" \"\n",
    "    stemSentence = stemSentence.strip()\n",
    "    return stemSentence"
   ]
  },
  {
   "cell_type": "code",
   "execution_count": 172,
   "metadata": {},
   "outputs": [
    {
     "name": "stderr",
     "output_type": "stream",
     "text": [
      "[nltk_data] Downloading package stopwords to /Users/Neil/nltk_data...\n",
      "[nltk_data]   Package stopwords is already up-to-date!\n"
     ]
    }
   ],
   "source": [
    "import nltk\n",
    "nltk.download('stopwords')\n",
    "from nltk.corpus import stopwords\n",
    "import string\n",
    "\n",
    "# Do further text cleaning and processing into important tokens without punctuation and add this to a new column\n",
    "def stop_process(mess):\n",
    "    \"\"\"\n",
    "    Takes in a string of text, then performs the following:\n",
    "    1. Remove all punctuation\n",
    "    2. Remove all stopwords\n",
    "    3. Stems\n",
    "    4. Returns a list of the cleaned text\n",
    "    5. Makes that list back into bread text\n",
    "    \"\"\"\n",
    "    # Check characters to see if they are in punctuation\n",
    "    nopunc = [char for char in mess if char not in string.punctuation]\n",
    "\n",
    "    # Join the characters again to form the string.\n",
    "    nopunc = ''.join(nopunc)\n",
    "    \n",
    "    # Now just remove any stopwords\n",
    "    nostop = [word for word in nopunc.split() if word.lower() not in stopwords.words('english')]\n",
    "    nostop = ' '.join(nostop)\n",
    "    \n",
    "    # Stem the words\n",
    "    stemed = stemming(nostop)\n",
    "    \n",
    "    return stemed"
   ]
  },
  {
   "cell_type": "code",
   "execution_count": 173,
   "metadata": {},
   "outputs": [
    {
     "name": "stderr",
     "output_type": "stream",
     "text": [
      "/Users/Neil/Applications/miniconda3/lib/python3.6/site-packages/ipykernel_launcher.py:4: SettingWithCopyWarning: \n",
      "A value is trying to be set on a copy of a slice from a DataFrame.\n",
      "Try using .loc[row_indexer,col_indexer] = value instead\n",
      "\n",
      "See the caveats in the documentation: http://pandas.pydata.org/pandas-docs/stable/indexing.html#indexing-view-versus-copy\n",
      "  after removing the cwd from sys.path.\n",
      "/Users/Neil/Applications/miniconda3/lib/python3.6/site-packages/pandas/core/frame.py:3697: SettingWithCopyWarning: \n",
      "A value is trying to be set on a copy of a slice from a DataFrame\n",
      "\n",
      "See the caveats in the documentation: http://pandas.pydata.org/pandas-docs/stable/indexing.html#indexing-view-versus-copy\n",
      "  errors=errors)\n"
     ]
    },
    {
     "data": {
      "text/html": [
       "<div>\n",
       "<style scoped>\n",
       "    .dataframe tbody tr th:only-of-type {\n",
       "        vertical-align: middle;\n",
       "    }\n",
       "\n",
       "    .dataframe tbody tr th {\n",
       "        vertical-align: top;\n",
       "    }\n",
       "\n",
       "    .dataframe thead th {\n",
       "        text-align: right;\n",
       "    }\n",
       "</style>\n",
       "<table border=\"1\" class=\"dataframe\">\n",
       "  <thead>\n",
       "    <tr style=\"text-align: right;\">\n",
       "      <th></th>\n",
       "      <th>food</th>\n",
       "      <th>delivery</th>\n",
       "      <th>other</th>\n",
       "      <th>tokens</th>\n",
       "    </tr>\n",
       "  </thead>\n",
       "  <tbody>\n",
       "    <tr>\n",
       "      <th>0</th>\n",
       "      <td>0</td>\n",
       "      <td>0</td>\n",
       "      <td>0</td>\n",
       "      <td>zahamt bekeshin berenj mashti vasamoon bekeshi...</td>\n",
       "    </tr>\n",
       "    <tr>\n",
       "      <th>1</th>\n",
       "      <td>0</td>\n",
       "      <td>0</td>\n",
       "      <td>0</td>\n",
       "      <td>food realli good keep</td>\n",
       "    </tr>\n",
       "    <tr>\n",
       "      <th>2</th>\n",
       "      <td>1</td>\n",
       "      <td>0</td>\n",
       "      <td>1</td>\n",
       "      <td>favourit vegan haha tofu vermicelli meat egg m...</td>\n",
       "    </tr>\n",
       "    <tr>\n",
       "      <th>3</th>\n",
       "      <td>1</td>\n",
       "      <td>0</td>\n",
       "      <td>1</td>\n",
       "      <td>told remind would give free food due complaint...</td>\n",
       "    </tr>\n",
       "    <tr>\n",
       "      <th>4</th>\n",
       "      <td>1</td>\n",
       "      <td>0</td>\n",
       "      <td>0</td>\n",
       "      <td>need send someth extra caus last time mistak o...</td>\n",
       "    </tr>\n",
       "    <tr>\n",
       "      <th>5</th>\n",
       "      <td>0</td>\n",
       "      <td>1</td>\n",
       "      <td>0</td>\n",
       "      <td>wait behind argo</td>\n",
       "    </tr>\n",
       "    <tr>\n",
       "      <th>6</th>\n",
       "      <td>0</td>\n",
       "      <td>1</td>\n",
       "      <td>1</td>\n",
       "      <td>leav food pub employe cant phone number thank</td>\n",
       "    </tr>\n",
       "    <tr>\n",
       "      <th>7</th>\n",
       "      <td>1</td>\n",
       "      <td>0</td>\n",
       "      <td>1</td>\n",
       "      <td>leav biryani sauc thank</td>\n",
       "    </tr>\n",
       "    <tr>\n",
       "      <th>8</th>\n",
       "      <td>1</td>\n",
       "      <td>0</td>\n",
       "      <td>0</td>\n",
       "      <td>ask remind peanut butter cake forgot one order</td>\n",
       "    </tr>\n",
       "    <tr>\n",
       "      <th>9</th>\n",
       "      <td>1</td>\n",
       "      <td>0</td>\n",
       "      <td>0</td>\n",
       "      <td>yogurt sauc</td>\n",
       "    </tr>\n",
       "    <tr>\n",
       "      <th>10</th>\n",
       "      <td>1</td>\n",
       "      <td>0</td>\n",
       "      <td>0</td>\n",
       "      <td>yoghurt mint kebab chip meal possibl pleas</td>\n",
       "    </tr>\n",
       "    <tr>\n",
       "      <th>11</th>\n",
       "      <td>1</td>\n",
       "      <td>0</td>\n",
       "      <td>0</td>\n",
       "      <td>yoghurt mint garlic mayo kebablettuc onion cuc...</td>\n",
       "    </tr>\n",
       "    <tr>\n",
       "      <th>12</th>\n",
       "      <td>0</td>\n",
       "      <td>0</td>\n",
       "      <td>1</td>\n",
       "      <td>yesterday deliveri late deliveri man owner sai...</td>\n",
       "    </tr>\n",
       "    <tr>\n",
       "      <th>13</th>\n",
       "      <td>1</td>\n",
       "      <td>0</td>\n",
       "      <td>0</td>\n",
       "      <td>yes salt vinegar thankyou</td>\n",
       "    </tr>\n",
       "    <tr>\n",
       "      <th>14</th>\n",
       "      <td>1</td>\n",
       "      <td>0</td>\n",
       "      <td>0</td>\n",
       "      <td>yes pleas prawn cracker offer thank</td>\n",
       "    </tr>\n",
       "  </tbody>\n",
       "</table>\n",
       "</div>"
      ],
      "text/plain": [
       "    food  delivery  other                                             tokens\n",
       "0      0         0      0  zahamt bekeshin berenj mashti vasamoon bekeshi...\n",
       "1      0         0      0                              food realli good keep\n",
       "2      1         0      1  favourit vegan haha tofu vermicelli meat egg m...\n",
       "3      1         0      1  told remind would give free food due complaint...\n",
       "4      1         0      0  need send someth extra caus last time mistak o...\n",
       "5      0         1      0                                   wait behind argo\n",
       "6      0         1      1      leav food pub employe cant phone number thank\n",
       "7      1         0      1                            leav biryani sauc thank\n",
       "8      1         0      0     ask remind peanut butter cake forgot one order\n",
       "9      1         0      0                                        yogurt sauc\n",
       "10     1         0      0         yoghurt mint kebab chip meal possibl pleas\n",
       "11     1         0      0  yoghurt mint garlic mayo kebablettuc onion cuc...\n",
       "12     0         0      1  yesterday deliveri late deliveri man owner sai...\n",
       "13     1         0      0                          yes salt vinegar thankyou\n",
       "14     1         0      0                yes pleas prawn cracker offer thank"
      ]
     },
     "execution_count": 173,
     "metadata": {},
     "output_type": "execute_result"
    }
   ],
   "source": [
    "# Apply the stemming pipeline to the training data and make a new column of stemmed\n",
    "# data called tokens to feed into the ML process\n",
    "tokens = train_test_data['notes'].apply(stop_process)\n",
    "train_test_data['tokens'] = tokens\n",
    "train_test_data.drop(labels='notes', axis=1, inplace=True)\n",
    "train_test_data.head(15)"
   ]
  },
  {
   "cell_type": "code",
   "execution_count": 174,
   "metadata": {},
   "outputs": [
    {
     "name": "stderr",
     "output_type": "stream",
     "text": [
      "/Users/Neil/Applications/miniconda3/lib/python3.6/site-packages/ipykernel_launcher.py:3: SettingWithCopyWarning: \n",
      "A value is trying to be set on a copy of a slice from a DataFrame.\n",
      "Try using .loc[row_indexer,col_indexer] = value instead\n",
      "\n",
      "See the caveats in the documentation: http://pandas.pydata.org/pandas-docs/stable/indexing.html#indexing-view-versus-copy\n",
      "  This is separate from the ipykernel package so we can avoid doing imports until\n"
     ]
    }
   ],
   "source": [
    "# And do the same for the predictions data\n",
    "tokens = predict_data['notes'].apply(stop_process)\n",
    "predict_data['tokens'] = tokens\n",
    "predict_data.drop(labels='notes', axis=1, inplace=True)"
   ]
  },
  {
   "cell_type": "code",
   "execution_count": 175,
   "metadata": {},
   "outputs": [],
   "source": [
    "# Make a train test split using tokens and combined label as the data to feed in\n",
    "from sklearn.model_selection import train_test_split"
   ]
  },
  {
   "cell_type": "code",
   "execution_count": 176,
   "metadata": {},
   "outputs": [],
   "source": [
    "txt_train, txt_test, label_train, label_test = train_test_split(train_test_data['tokens'], train_test_data.drop(labels='tokens', axis=1), test_size=0.3)"
   ]
  },
  {
   "cell_type": "code",
   "execution_count": 177,
   "metadata": {},
   "outputs": [],
   "source": [
    "from sklearn.pipeline import Pipeline\n",
    "from sklearn.feature_extraction.text import CountVectorizer, TfidfTransformer\n",
    "from sklearn.naive_bayes import MultinomialNB\n",
    "from skmultilearn.problem_transform import BinaryRelevance"
   ]
  },
  {
   "cell_type": "code",
   "execution_count": 178,
   "metadata": {},
   "outputs": [
    {
     "name": "stdout",
     "output_type": "stream",
     "text": [
      "              precision    recall  f1-score   support\n",
      "\n",
      "           0       0.98      0.94      0.96       489\n",
      "           1       0.94      0.99      0.97       368\n",
      "           2       0.04      1.00      0.07         4\n",
      "\n",
      "   micro avg       0.86      0.96      0.91       861\n",
      "   macro avg       0.65      0.98      0.66       861\n",
      "weighted avg       0.96      0.96      0.96       861\n",
      " samples avg       0.88      0.92      0.89       861\n",
      "\n",
      "Accuracy Score: 0.85\n",
      "1 - Hamming Loss: 0.937037037037037\n"
     ]
    },
    {
     "name": "stderr",
     "output_type": "stream",
     "text": [
      "/Users/Neil/Applications/miniconda3/lib/python3.6/site-packages/sklearn/metrics/classification.py:1143: UndefinedMetricWarning: Precision and F-score are ill-defined and being set to 0.0 in samples with no predicted labels.\n",
      "  'precision', 'predicted', average, warn_for)\n",
      "/Users/Neil/Applications/miniconda3/lib/python3.6/site-packages/sklearn/metrics/classification.py:1145: UndefinedMetricWarning: Recall and F-score are ill-defined and being set to 0.0 in samples with no true labels.\n",
      "  'recall', 'true', average, warn_for)\n"
     ]
    }
   ],
   "source": [
    "# Pipleline for multi-label at a time\n",
    "pipeline = Pipeline([\n",
    "    ('bow', CountVectorizer()),  # strings to token integer counts\n",
    "    ('tfidf', TfidfTransformer()),  # integer counts to weighted TF-IDF scores\n",
    "    ('classifier', BinaryRelevance(MultinomialNB())),  # train on TF-IDF vectors w/ Naive Bayes classifier but use BinaryRelevance to sort the multi-label stuff\n",
    "])\n",
    "\n",
    "# Apply the multi-pipeline\n",
    "pipeline.fit(txt_train,label_train)\n",
    "predictions = pipeline.predict(txt_test)\n",
    "\n",
    "# Check the performance against the test data for multi-label\n",
    "from sklearn.metrics import classification_report, confusion_matrix\n",
    "print(classification_report(predictions,label_test))\n",
    "# print(confusion_matrix(predictions,label_test))\n",
    "\n",
    "from sklearn.metrics import accuracy_score, hamming_loss\n",
    "print('Accuracy Score: {}'.format(accuracy_score(predictions.todense(),label_test)))\n",
    "print('1 - Hamming Loss: {}'.format(1-hamming_loss(predictions.todense(),label_test)))"
   ]
  },
  {
   "cell_type": "code",
   "execution_count": 179,
   "metadata": {},
   "outputs": [
    {
     "name": "stdout",
     "output_type": "stream",
     "text": [
      "(900, 3)\n"
     ]
    }
   ],
   "source": [
    "print(np.shape(predictions.todense()))\n",
    "tot = np.shape(predictions.todense())[0]"
   ]
  },
  {
   "cell_type": "code",
   "execution_count": 180,
   "metadata": {},
   "outputs": [
    {
     "name": "stdout",
     "output_type": "stream",
     "text": [
      "[[0 1 0]\n",
      " [1 0 0]\n",
      " [0 1 0]\n",
      " [1 0 0]\n",
      " [1 0 0]\n",
      " [0 1 0]\n",
      " [1 0 0]\n",
      " [0 0 0]\n",
      " [1 0 0]\n",
      " [0 1 0]]\n"
     ]
    }
   ],
   "source": [
    "# Unpack the sparse matrix and put a 1 for each collumn that is true\n",
    "results_col = np.array(predictions.todense())\n",
    "print(results_col[0:10,:])"
   ]
  },
  {
   "cell_type": "code",
   "execution_count": 181,
   "metadata": {},
   "outputs": [
    {
     "name": "stdout",
     "output_type": "stream",
     "text": [
      "486 365 4 3 0\n"
     ]
    }
   ],
   "source": [
    "# Numbers in each category\n",
    "num_all_cats = 0\n",
    "num_food_delivery = 0\n",
    "num_food = 0\n",
    "num_delivery = 0\n",
    "num_other = 0 # inc. other plus any other category except all three\n",
    "for i in results_col:\n",
    "    if np.sum(i) == 3:\n",
    "        num_all_cats += 1\n",
    "    if np.sum(i[0:2]) == 2:\n",
    "        num_food_delivery += 1\n",
    "    if i[0] == 1 and i[1] == 0:\n",
    "        num_food += 1\n",
    "    if i[0] == 0 and i[1] == 1:\n",
    "        num_delivery += 1\n",
    "    if i[2] == 1 and np.sum(i[0:2]) != 2:\n",
    "        num_other += 1\n",
    "        \n",
    "print(num_food, num_delivery, num_other, num_food_delivery, num_all_cats)"
   ]
  },
  {
   "cell_type": "code",
   "execution_count": 182,
   "metadata": {},
   "outputs": [
    {
     "name": "stdout",
     "output_type": "stream",
     "text": [
      "1490 1191 304 103 5\n"
     ]
    }
   ],
   "source": [
    "# Comparison with the human labelled data\n",
    "comp_results = train_test_data.drop(labels='tokens', axis=1)\n",
    "comp_results = comp_results.values\n",
    "comp_tot = np.shape(comp_results)[0]\n",
    "comp_num_all_cats = 0\n",
    "comp_num_food_delivery = 0\n",
    "comp_num_food = 0\n",
    "comp_num_delivery = 0\n",
    "comp_num_other = 0 # inc. other plus any other category except all three\n",
    "for i in comp_results:\n",
    "    if np.sum(i) == 3:\n",
    "        comp_num_all_cats += 1\n",
    "    if np.sum(i[0:2]) == 2:\n",
    "        comp_num_food_delivery += 1\n",
    "    if i[0] == 1 and i[1] == 0:\n",
    "        comp_num_food += 1\n",
    "    if i[0] == 0 and i[1] == 1:\n",
    "        comp_num_delivery += 1\n",
    "    if i[2] == 1 and np.sum(i[0:2]) != 2:\n",
    "        comp_num_other += 1\n",
    "        \n",
    "print(comp_num_food, comp_num_delivery, comp_num_other, comp_num_food_delivery, comp_num_all_cats)"
   ]
  },
  {
   "cell_type": "code",
   "execution_count": 183,
   "metadata": {},
   "outputs": [
    {
     "name": "stdout",
     "output_type": "stream",
     "text": [
      "0.0044444444444444444\n",
      "0.10133333333333333\n"
     ]
    }
   ],
   "source": [
    "# Percent that are only other\n",
    "prop_other = num_other/tot\n",
    "print(prop_other)\n",
    "comp_prop_other = comp_num_other/comp_tot\n",
    "print(comp_prop_other)"
   ]
  },
  {
   "cell_type": "code",
   "execution_count": 184,
   "metadata": {},
   "outputs": [
    {
     "name": "stdout",
     "output_type": "stream",
     "text": [
      "0.54\n",
      "0.49666666666666665\n"
     ]
    }
   ],
   "source": [
    "# Percent that are only food\n",
    "prop_food = num_food/tot\n",
    "print(prop_food)\n",
    "comp_prop_food = comp_num_food/comp_tot\n",
    "print(comp_prop_food)"
   ]
  },
  {
   "cell_type": "code",
   "execution_count": 185,
   "metadata": {},
   "outputs": [
    {
     "name": "stdout",
     "output_type": "stream",
     "text": [
      "0.40555555555555556\n",
      "0.397\n"
     ]
    }
   ],
   "source": [
    "# Percent that are only delivery\n",
    "prop_delivery = num_delivery/tot\n",
    "print(prop_delivery)\n",
    "comp_prop_delivery = comp_num_delivery/comp_tot\n",
    "print(comp_prop_delivery)"
   ]
  },
  {
   "cell_type": "code",
   "execution_count": 186,
   "metadata": {},
   "outputs": [
    {
     "name": "stdout",
     "output_type": "stream",
     "text": [
      "0.0033333333333333335\n",
      "0.034333333333333334\n"
     ]
    }
   ],
   "source": [
    "# Percent that are food and delivery\n",
    "prop_food_delivery = num_food_delivery/tot\n",
    "print(prop_food_delivery)\n",
    "comp_prop_food_delivery = comp_num_food_delivery/comp_tot\n",
    "print(comp_prop_food_delivery)"
   ]
  },
  {
   "cell_type": "code",
   "execution_count": 187,
   "metadata": {},
   "outputs": [
    {
     "name": "stdout",
     "output_type": "stream",
     "text": [
      "0.0\n",
      "0.0016666666666666668\n"
     ]
    }
   ],
   "source": [
    "# Percent that are all categories\n",
    "prop_all_cats = num_all_cats/tot\n",
    "print(prop_all_cats)\n",
    "comp_prop_all_cats = comp_num_all_cats/comp_tot\n",
    "print(comp_prop_all_cats)"
   ]
  },
  {
   "cell_type": "code",
   "execution_count": 188,
   "metadata": {},
   "outputs": [
    {
     "data": {
      "image/png": "[encoded data removed]",
      "text/plain": [
       "<Figure size 432x288 with 1 Axes>"
      ]
     },
     "metadata": {},
     "output_type": "display_data"
    }
   ],
   "source": [
    "# Create data\n",
    "names=['Delivery', 'Food', 'Other', 'Food & Delivery', 'All Cats', 'No Label']\n",
    "size=[prop_delivery, prop_food, prop_other, prop_food_delivery, prop_all_cats, (1-(prop_delivery+prop_food+prop_other+prop_food_delivery+prop_all_cats))]\n",
    "\n",
    "# Create a circle for the center of the plot\n",
    "my_circle=plt.Circle( (0,0), 0.7, color='white')\n",
    "\n",
    "# Other settings\n",
    "plt.axes(aspect='equal')\n",
    "plt.pie(size, labels=names, labeldistance=1.1, colors=['royalblue', 'orange', 'darkorchid', 'red', 'seagreen', 'purple'], wedgeprops = { 'linewidth' : 7, 'edgecolor' : 'white' })\n",
    "plt.rcParams['text.color'] = 'black'\n",
    "p=plt.gcf()\n",
    "p.gca().add_artist(my_circle)\n",
    "plt.show()"
   ]
  },
  {
   "cell_type": "code",
   "execution_count": 189,
   "metadata": {},
   "outputs": [
    {
     "name": "stdout",
     "output_type": "stream",
     "text": [
      "[[0 0 0]\n",
      " [0 1 0]\n",
      " [0 0 0]\n",
      " [0 1 0]\n",
      " [1 0 0]\n",
      " [0 0 0]\n",
      " [0 1 0]\n",
      " [0 1 0]\n",
      " [0 1 0]\n",
      " [0 1 0]]\n"
     ]
    }
   ],
   "source": [
    "predictions = pipeline.predict(predict_data['tokens'])\n",
    "results_col = np.array(predictions.todense())\n",
    "print(results_col[0:10,:])"
   ]
  },
  {
   "cell_type": "code",
   "execution_count": 190,
   "metadata": {},
   "outputs": [
    {
     "name": "stdout",
     "output_type": "stream",
     "text": [
      "5241 1623 7 45 0\n"
     ]
    }
   ],
   "source": [
    "# Numbers in each category\n",
    "tot = np.shape(predictions.todense())[0]\n",
    "num_all_cats = 0\n",
    "num_food_delivery = 0\n",
    "num_food = 0\n",
    "num_delivery = 0\n",
    "num_other = 0 # inc. other plus any other category except all three\n",
    "for i in results_col:\n",
    "    if np.sum(i) == 3:\n",
    "        num_all_cats += 1\n",
    "    if np.sum(i[0:2]) == 2:\n",
    "        num_food_delivery += 1\n",
    "    if i[0] == 1 and i[1] == 0:\n",
    "        num_food += 1\n",
    "    if i[0] == 0 and i[1] == 1:\n",
    "        num_delivery += 1\n",
    "    if i[2] == 1 and np.sum(i[0:2]) != 2:\n",
    "        num_other += 1\n",
    "        \n",
    "print(num_food, num_delivery, num_other, num_food_delivery, num_all_cats)"
   ]
  },
  {
   "cell_type": "code",
   "execution_count": 191,
   "metadata": {},
   "outputs": [
    {
     "data": {
      "text/plain": [
       "0.0010001428775539363"
      ]
     },
     "execution_count": 191,
     "metadata": {},
     "output_type": "execute_result"
    }
   ],
   "source": [
    "# Percent that are only other\n",
    "prop_other = num_other/tot\n",
    "prop_other"
   ]
  },
  {
   "cell_type": "code",
   "execution_count": 192,
   "metadata": {},
   "outputs": [
    {
     "data": {
      "text/plain": [
       "0.7488212601800257"
      ]
     },
     "execution_count": 192,
     "metadata": {},
     "output_type": "execute_result"
    }
   ],
   "source": [
    "# Percent that are only food\n",
    "prop_food = num_food/tot\n",
    "prop_food"
   ]
  },
  {
   "cell_type": "code",
   "execution_count": 193,
   "metadata": {},
   "outputs": [
    {
     "data": {
      "text/plain": [
       "0.23189027003857693"
      ]
     },
     "execution_count": 193,
     "metadata": {},
     "output_type": "execute_result"
    }
   ],
   "source": [
    "# Percent that are only delivery\n",
    "prop_delivery = num_delivery/tot\n",
    "prop_delivery"
   ]
  },
  {
   "cell_type": "code",
   "execution_count": 194,
   "metadata": {},
   "outputs": [
    {
     "data": {
      "text/plain": [
       "0.006429489927132447"
      ]
     },
     "execution_count": 194,
     "metadata": {},
     "output_type": "execute_result"
    }
   ],
   "source": [
    "# Percent that are food and delivery\n",
    "prop_food_delivery = num_food_delivery/tot\n",
    "prop_food_delivery"
   ]
  },
  {
   "cell_type": "code",
   "execution_count": 195,
   "metadata": {},
   "outputs": [
    {
     "data": {
      "text/plain": [
       "0.0"
      ]
     },
     "execution_count": 195,
     "metadata": {},
     "output_type": "execute_result"
    }
   ],
   "source": [
    "# Percent that are all categories\n",
    "prop_all_cats = num_all_cats/tot\n",
    "prop_all_cats"
   ]
  },
  {
   "cell_type": "code",
   "execution_count": 196,
   "metadata": {},
   "outputs": [
    {
     "data": {
      "image/png": "[encoded data removed]",
      "text/plain": [
       "<Figure size 432x288 with 1 Axes>"
      ]
     },
     "metadata": {},
     "output_type": "display_data"
    }
   ],
   "source": [
    "# Create data\n",
    "names=['Delivery', 'Food', 'Other', 'Food & Delivery', 'All Cats', 'No Label']\n",
    "size=[prop_delivery, prop_food, prop_other, prop_food_delivery, prop_all_cats, (1-(prop_delivery+prop_food+prop_other+prop_food_delivery+prop_all_cats))]\n",
    "\n",
    "# Create a circle for the center of the plot\n",
    "my_circle=plt.Circle( (0,0), 0.7, color='white')\n",
    "\n",
    "# Other settings\n",
    "plt.axes(aspect='equal')\n",
    "plt.pie(size, labels=names, labeldistance=1.1, colors=['royalblue', 'orange', 'darkorchid', 'red', 'seagreen', 'purple'], wedgeprops = { 'linewidth' : 7, 'edgecolor' : 'white' })\n",
    "plt.rcParams['text.color'] = 'black'\n",
    "p=plt.gcf()\n",
    "p.gca().add_artist(my_circle)\n",
    "plt.show()"
   ]
  },
  {
   "cell_type": "code",
   "execution_count": 197,
   "metadata": {},
   "outputs": [],
   "source": [
    "# Check how good the machine lablelled data was"
   ]
  },
  {
   "cell_type": "code",
   "execution_count": 198,
   "metadata": {},
   "outputs": [
    {
     "data": {
      "text/html": [
       "<div>\n",
       "<style scoped>\n",
       "    .dataframe tbody tr th:only-of-type {\n",
       "        vertical-align: middle;\n",
       "    }\n",
       "\n",
       "    .dataframe tbody tr th {\n",
       "        vertical-align: top;\n",
       "    }\n",
       "\n",
       "    .dataframe thead th {\n",
       "        text-align: right;\n",
       "    }\n",
       "</style>\n",
       "<table border=\"1\" class=\"dataframe\">\n",
       "  <thead>\n",
       "    <tr style=\"text-align: right;\">\n",
       "      <th></th>\n",
       "      <th>food</th>\n",
       "      <th>delivery</th>\n",
       "      <th>other</th>\n",
       "    </tr>\n",
       "  </thead>\n",
       "  <tbody>\n",
       "    <tr>\n",
       "      <th>3001</th>\n",
       "      <td>0</td>\n",
       "      <td>0</td>\n",
       "      <td>1</td>\n",
       "    </tr>\n",
       "    <tr>\n",
       "      <th>3002</th>\n",
       "      <td>0</td>\n",
       "      <td>1</td>\n",
       "      <td>0</td>\n",
       "    </tr>\n",
       "    <tr>\n",
       "      <th>3003</th>\n",
       "      <td>0</td>\n",
       "      <td>0</td>\n",
       "      <td>1</td>\n",
       "    </tr>\n",
       "    <tr>\n",
       "      <th>3004</th>\n",
       "      <td>0</td>\n",
       "      <td>1</td>\n",
       "      <td>0</td>\n",
       "    </tr>\n",
       "    <tr>\n",
       "      <th>3005</th>\n",
       "      <td>1</td>\n",
       "      <td>0</td>\n",
       "      <td>1</td>\n",
       "    </tr>\n",
       "  </tbody>\n",
       "</table>\n",
       "</div>"
      ],
      "text/plain": [
       "      food  delivery  other\n",
       "3001     0         0      1\n",
       "3002     0         1      0\n",
       "3003     0         0      1\n",
       "3004     0         1      0\n",
       "3005     1         0      1"
      ]
     },
     "execution_count": 198,
     "metadata": {},
     "output_type": "execute_result"
    }
   ],
   "source": [
    "machine_labelled_data.head(5)"
   ]
  },
  {
   "cell_type": "code",
   "execution_count": 199,
   "metadata": {},
   "outputs": [],
   "source": [
    "results_col_machine = machine_labelled_data.values"
   ]
  },
  {
   "cell_type": "code",
   "execution_count": 200,
   "metadata": {},
   "outputs": [
    {
     "name": "stdout",
     "output_type": "stream",
     "text": [
      "[[0 0 1]\n",
      " [0 1 0]\n",
      " [0 0 1]\n",
      " [0 1 0]\n",
      " [1 0 1]\n",
      " [0 0 1]\n",
      " [0 1 0]\n",
      " [0 1 0]\n",
      " [0 1 0]\n",
      " [0 1 0]]\n"
     ]
    }
   ],
   "source": [
    "print(results_col_machine[0:10])"
   ]
  },
  {
   "cell_type": "code",
   "execution_count": 201,
   "metadata": {},
   "outputs": [
    {
     "data": {
      "text/plain": [
       "(6999, 3)"
      ]
     },
     "execution_count": 201,
     "metadata": {},
     "output_type": "execute_result"
    }
   ],
   "source": [
    "np.shape(results_col_machine)"
   ]
  },
  {
   "cell_type": "code",
   "execution_count": 202,
   "metadata": {},
   "outputs": [
    {
     "data": {
      "text/plain": [
       "(6999, 3)"
      ]
     },
     "execution_count": 202,
     "metadata": {},
     "output_type": "execute_result"
    }
   ],
   "source": [
    "np.shape(results_col)"
   ]
  },
  {
   "cell_type": "code",
   "execution_count": 203,
   "metadata": {},
   "outputs": [],
   "source": [
    "tot = np.shape(results_col)[0]"
   ]
  },
  {
   "cell_type": "code",
   "execution_count": 204,
   "metadata": {},
   "outputs": [],
   "source": [
    "bools = results_col_machine == results_col"
   ]
  },
  {
   "cell_type": "code",
   "execution_count": 205,
   "metadata": {},
   "outputs": [
    {
     "data": {
      "text/plain": [
       "array([[ True,  True, False],\n",
       "       [ True,  True,  True],\n",
       "       [ True,  True, False],\n",
       "       [ True,  True,  True],\n",
       "       [ True,  True, False],\n",
       "       [ True,  True, False],\n",
       "       [ True,  True,  True],\n",
       "       [ True,  True,  True],\n",
       "       [ True,  True,  True],\n",
       "       [ True,  True,  True],\n",
       "       [ True,  True, False],\n",
       "       [False,  True, False],\n",
       "       [False,  True, False],\n",
       "       [ True,  True,  True],\n",
       "       [ True,  True,  True],\n",
       "       [ True,  True, False],\n",
       "       [ True,  True,  True],\n",
       "       [ True,  True,  True],\n",
       "       [ True,  True,  True],\n",
       "       [ True, False, False],\n",
       "       [ True,  True, False],\n",
       "       [ True,  True,  True],\n",
       "       [ True,  True,  True],\n",
       "       [ True,  True, False],\n",
       "       [False,  True,  True],\n",
       "       [ True,  True,  True],\n",
       "       [False,  True,  True],\n",
       "       [ True,  True, False],\n",
       "       [ True,  True,  True],\n",
       "       [ True,  True,  True],\n",
       "       [ True,  True,  True],\n",
       "       [ True,  True,  True],\n",
       "       [ True,  True,  True],\n",
       "       [False,  True, False],\n",
       "       [ True,  True,  True],\n",
       "       [ True,  True,  True],\n",
       "       [ True,  True,  True],\n",
       "       [ True,  True,  True],\n",
       "       [ True,  True,  True],\n",
       "       [ True,  True,  True],\n",
       "       [False,  True,  True],\n",
       "       [ True,  True,  True],\n",
       "       [ True,  True,  True],\n",
       "       [ True,  True, False],\n",
       "       [ True,  True,  True],\n",
       "       [ True,  True, False],\n",
       "       [ True,  True,  True],\n",
       "       [ True,  True, False],\n",
       "       [ True,  True,  True],\n",
       "       [ True,  True,  True]])"
      ]
     },
     "execution_count": 205,
     "metadata": {},
     "output_type": "execute_result"
    }
   ],
   "source": [
    "bools[0:50]"
   ]
  },
  {
   "cell_type": "code",
   "execution_count": 206,
   "metadata": {},
   "outputs": [
    {
     "data": {
      "text/plain": [
       "92.7703957708244"
      ]
     },
     "execution_count": 206,
     "metadata": {},
     "output_type": "execute_result"
    }
   ],
   "source": [
    "# Percent food correct\n",
    "food_correct = (np.sum(bools[:,0])/tot)*100\n",
    "food_correct"
   ]
  },
  {
   "cell_type": "code",
   "execution_count": 207,
   "metadata": {},
   "outputs": [
    {
     "data": {
      "text/plain": [
       "93.98485497928274"
      ]
     },
     "execution_count": 207,
     "metadata": {},
     "output_type": "execute_result"
    }
   ],
   "source": [
    "# Percent delivery correct\n",
    "delivery_correct = (np.sum(bools[:,1])/tot)*100\n",
    "delivery_correct"
   ]
  },
  {
   "cell_type": "code",
   "execution_count": 208,
   "metadata": {},
   "outputs": [
    {
     "data": {
      "text/plain": [
       "73.88198314044864"
      ]
     },
     "execution_count": 208,
     "metadata": {},
     "output_type": "execute_result"
    }
   ],
   "source": [
    "# Percent other correct\n",
    "other_correct = (np.sum(bools[:,2])/tot)*100\n",
    "other_correct"
   ]
  },
  {
   "cell_type": "code",
   "execution_count": null,
   "metadata": {},
   "outputs": [],
   "source": []
  }
 ],
 "metadata": {
  "kernelspec": {
   "display_name": "Python 3",
   "language": "python",
   "name": "python3"
  },
  "language_info": {
   "codemirror_mode": {
    "name": "ipython",
    "version": 3
   },
   "file_extension": ".py",
   "mimetype": "text/x-python",
   "name": "python",
   "nbconvert_exporter": "python",
   "pygments_lexer": "ipython3",
   "version": "3.6.7"
  }
 },
 "nbformat": 4,
 "nbformat_minor": 2
}
